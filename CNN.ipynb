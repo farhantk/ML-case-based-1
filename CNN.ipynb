{
  "nbformat": 4,
  "nbformat_minor": 0,
  "metadata": {
    "colab": {
      "provenance": []
    },
    "kernelspec": {
      "name": "python3",
      "display_name": "Python 3"
    }
  },
  "cells": [
    {
      "cell_type": "code",
      "metadata": {
        "id": "QzdxHxWAxbrt"
      },
      "source": [
        "import numpy as np\n",
        "import pandas as pd"
      ],
      "execution_count": null,
      "outputs": []
    },
    {
      "cell_type": "code",
      "metadata": {
        "id": "MLKV-GXKxq1o",
        "colab": {
          "base_uri": "https://localhost:8080/"
        },
        "outputId": "c9b0fc45-ab5a-443d-f066-f91c30547b19"
      },
      "source": [
        "# Load data dari repository github\n",
        "dataset = pd.read_excel('https://raw.githubusercontent.com/farhantk/ML-case-based-1/main/arrhythmia.xlsx')\n",
        "dataset.shape\n"
      ],
      "execution_count": null,
      "outputs": [
        {
          "output_type": "execute_result",
          "data": {
            "text/plain": [
              "(452, 280)"
            ]
          },
          "metadata": {},
          "execution_count": 136
        }
      ]
    },
    {
      "cell_type": "code",
      "source": [
        "from sklearn.impute import SimpleImputer\n",
        "from sklearn.preprocessing import StandardScaler\n",
        "#Preprocessing\n",
        "# pisahkan data X dan Y(target)\n",
        "X = dataset.iloc[:,:-1]\n",
        "Y = dataset.iloc[:,-1]\n",
        "\n",
        "# Hapus kolom yang memiliki data kosong sebanyak 30%\n",
        "thresh = len(X) * 0.3\n",
        "X.dropna(thresh = thresh, axis = 1, inplace = True)\n",
        "\n",
        "# Jika ada data yang bernilai null akan diisi dengan mediannya\n",
        "mean = SimpleImputer(missing_values=np.NaN, strategy='median')\n",
        "imputer = mean.fit(X)\n",
        "df_imp = imputer.transform(X)\n",
        "X = pd.DataFrame(df_imp)\n",
        "\n",
        "# Scaling\n",
        "from sklearn.preprocessing import StandardScaler\n",
        "sc = StandardScaler()\n",
        "x_scaled = sc.fit_transform(X.values) \n",
        "X = pd.DataFrame(x_scaled, index = X.index)\n",
        "\n",
        "X.shape"
      ],
      "metadata": {
        "colab": {
          "base_uri": "https://localhost:8080/"
        },
        "id": "5oFCIwMzjttU",
        "outputId": "92dab92b-5b29-4c49-a414-3a91f2d36408"
      },
      "execution_count": null,
      "outputs": [
        {
          "output_type": "execute_result",
          "data": {
            "text/plain": [
              "(452, 278)"
            ]
          },
          "metadata": {},
          "execution_count": 137
        }
      ]
    },
    {
      "cell_type": "code",
      "source": [
        "Y.unique()"
      ],
      "metadata": {
        "colab": {
          "base_uri": "https://localhost:8080/"
        },
        "id": "Omx77l2kEgQx",
        "outputId": "93d6fae0-d1be-4959-cf0b-389c84af23a3"
      },
      "execution_count": null,
      "outputs": [
        {
          "output_type": "execute_result",
          "data": {
            "text/plain": [
              "array([ 8,  6, 10,  1,  7, 14,  3, 16,  2,  4,  5,  9, 15])"
            ]
          },
          "metadata": {},
          "execution_count": 138
        }
      ]
    },
    {
      "cell_type": "code",
      "source": [
        "pip install sklearn"
      ],
      "metadata": {
        "colab": {
          "base_uri": "https://localhost:8080/"
        },
        "id": "mQeKWa2Kzjld",
        "outputId": "713d7a46-f0b8-4eaa-d0fe-742ed96fe8da"
      },
      "execution_count": null,
      "outputs": [
        {
          "output_type": "stream",
          "name": "stdout",
          "text": [
            "Looking in indexes: https://pypi.org/simple, https://us-python.pkg.dev/colab-wheels/public/simple/\n",
            "Requirement already satisfied: sklearn in /usr/local/lib/python3.7/dist-packages (0.0.post1)\n"
          ]
        }
      ]
    },
    {
      "cell_type": "code",
      "source": [
        "# Memisahkan data train dan data test\n",
        "from keras.utils import to_categorical\n",
        "from sklearn.model_selection import train_test_split\n",
        "X_train, X_test, Y_train, Y_test = train_test_split(X, Y, test_size=0.3,  random_state=5)\n",
        "\n",
        "Xtrain = np.array(X_train)\n",
        "Ytrain = to_categorical( Y_train)\n",
        "Xtest = np.array(X_test)\n",
        "Ytest = to_categorical(Y_test)"
      ],
      "metadata": {
        "id": "Etj7hpoukcAj"
      },
      "execution_count": null,
      "outputs": []
    },
    {
      "cell_type": "code",
      "source": [
        "from sklearn.utils import class_weight\n",
        "class_weights = class_weight.compute_class_weight(class_weight ='balanced', classes =np.unique(Y_train), y=Y_train)\n",
        "class_weights_dict = dict(zip([1,2,3,4,5,6,7,8,9,10,14,15,16], class_weights))\n",
        "class_weights_dict[0] = 0\n",
        "class_weights_dict[11] = 0\n",
        "class_weights_dict[12] = 0\n",
        "class_weights_dict[13] = 0\n",
        "print(class_weights.sum())\n",
        "print(class_weights_dict)"
      ],
      "metadata": {
        "colab": {
          "base_uri": "https://localhost:8080/"
        },
        "id": "gUDgTa8LHu2T",
        "outputId": "88928cc3-0e11-4073-a1f1-fa98b8ee9e17"
      },
      "execution_count": null,
      "outputs": [
        {
          "output_type": "stream",
          "name": "stdout",
          "text": [
            "64.21936718194168\n",
            "{1: 0.1389010989010989, 2: 0.8381962864721485, 3: 1.8698224852071006, 4: 2.2097902097902096, 5: 3.4725274725274726, 6: 1.4298642533936652, 7: 8.102564102564102, 8: 24.307692307692307, 9: 3.0384615384615383, 10: 0.7365967365967366, 14: 8.102564102564102, 15: 8.102564102564102, 16: 1.8698224852071006, 0: 0, 11: 0, 12: 0, 13: 0}\n"
          ]
        }
      ]
    },
    {
      "cell_type": "code",
      "source": [
        "\n",
        "from keras.layers.convolutional import Conv1D\n",
        "from keras.layers import Activation, Dense , Dropout, Flatten\n",
        "from keras.models import Sequential\n",
        "#model\n",
        "CNN = Sequential()\n",
        "\n",
        "CNN.add(Conv1D(filters=64, kernel_size=10,activation='relu',kernel_initializer='he_uniform', input_shape=(278,1)))\n",
        "CNN.add(Conv1D(filters=128, kernel_size=10,activation='relu',kernel_initializer='he_uniform'))\n",
        "CNN.add(Dropout(0.3))\n",
        "CNN.add(Dense(256, activation='relu'))\n",
        "CNN.add(Dense(128, activation='relu'))\n",
        "CNN.add(Dense(64, activation='relu'))\n",
        "CNN.add(Dense(32, activation='relu'))\n",
        "CNN.add(Flatten())\n",
        "CNN.add(Dense(17, activation='softmax'))\n",
        "CNN.compile(loss='categorical_crossentropy', optimizer='adam', metrics=['accuracy'])\n",
        "\n"
      ],
      "metadata": {
        "id": "9ezoRGqFHCM-"
      },
      "execution_count": null,
      "outputs": []
    },
    {
      "cell_type": "code",
      "source": [
        "from tensorflow.keras.callbacks import ModelCheckpoint, EarlyStopping\n",
        "batch_size= 8\n",
        "no_epochs = 50\n",
        "\n",
        "earlystop = EarlyStopping(monitor='val_accuracy', patience=20)\n",
        "checkpoint = ModelCheckpoint('model-epoch-{epoch:03d}-valacc-{val_accuracy:03f}.h5', verbose=1, monitor='val_accuracy',save_best_only=False, mode='auto')\n",
        "\n",
        "hist = CNN.fit(Xtrain, Ytrain, \n",
        "                 epochs=no_epochs, \n",
        "                 batch_size=batch_size, \n",
        "                 validation_data=(Xtest, Ytest),\n",
        "                 callbacks=[earlystop, checkpoint],\n",
        "                 class_weight = class_weights_dict)"
      ],
      "metadata": {
        "colab": {
          "base_uri": "https://localhost:8080/"
        },
        "id": "pMGDoy0SIqlS",
        "outputId": "abcdb00b-e5a6-4bda-e42b-57acc13331bb"
      },
      "execution_count": null,
      "outputs": [
        {
          "output_type": "stream",
          "name": "stdout",
          "text": [
            "Epoch 1/50\n",
            "39/40 [============================>.] - ETA: 0s - loss: 2.9851 - accuracy: 0.1891\n",
            "Epoch 1: saving model to model-epoch-001-valacc-0.308824.h5\n",
            "40/40 [==============================] - 6s 96ms/step - loss: 2.9670 - accuracy: 0.1899 - val_loss: 2.4000 - val_accuracy: 0.3088\n",
            "Epoch 2/50\n",
            "40/40 [==============================] - ETA: 0s - loss: 2.6675 - accuracy: 0.2911\n",
            "Epoch 2: saving model to model-epoch-002-valacc-0.279412.h5\n",
            "40/40 [==============================] - 7s 165ms/step - loss: 2.6675 - accuracy: 0.2911 - val_loss: 2.1340 - val_accuracy: 0.2794\n",
            "Epoch 3/50\n",
            "40/40 [==============================] - ETA: 0s - loss: 2.4367 - accuracy: 0.3418\n",
            "Epoch 3: saving model to model-epoch-003-valacc-0.389706.h5\n",
            "40/40 [==============================] - 6s 160ms/step - loss: 2.4367 - accuracy: 0.3418 - val_loss: 2.1957 - val_accuracy: 0.3897\n",
            "Epoch 4/50\n",
            "40/40 [==============================] - ETA: 0s - loss: 1.5068 - accuracy: 0.4589\n",
            "Epoch 4: saving model to model-epoch-004-valacc-0.286765.h5\n",
            "40/40 [==============================] - 6s 148ms/step - loss: 1.5068 - accuracy: 0.4589 - val_loss: 2.1222 - val_accuracy: 0.2868\n",
            "Epoch 5/50\n",
            "40/40 [==============================] - ETA: 0s - loss: 0.5174 - accuracy: 0.6582\n",
            "Epoch 5: saving model to model-epoch-005-valacc-0.419118.h5\n",
            "40/40 [==============================] - 6s 142ms/step - loss: 0.5174 - accuracy: 0.6582 - val_loss: 2.3860 - val_accuracy: 0.4191\n",
            "Epoch 6/50\n",
            "40/40 [==============================] - ETA: 0s - loss: 0.2310 - accuracy: 0.7722\n",
            "Epoch 6: saving model to model-epoch-006-valacc-0.411765.h5\n",
            "40/40 [==============================] - 6s 161ms/step - loss: 0.2310 - accuracy: 0.7722 - val_loss: 2.7087 - val_accuracy: 0.4118\n",
            "Epoch 7/50\n",
            "39/40 [============================>.] - ETA: 0s - loss: 0.1621 - accuracy: 0.8301\n",
            "Epoch 7: saving model to model-epoch-007-valacc-0.455882.h5\n",
            "40/40 [==============================] - 3s 82ms/step - loss: 0.1631 - accuracy: 0.8291 - val_loss: 2.7915 - val_accuracy: 0.4559\n",
            "Epoch 8/50\n",
            "39/40 [============================>.] - ETA: 0s - loss: 0.1237 - accuracy: 0.8429\n",
            "Epoch 8: saving model to model-epoch-008-valacc-0.411765.h5\n",
            "40/40 [==============================] - 3s 78ms/step - loss: 0.1230 - accuracy: 0.8449 - val_loss: 3.1316 - val_accuracy: 0.4118\n",
            "Epoch 9/50\n",
            "39/40 [============================>.] - ETA: 0s - loss: 0.1187 - accuracy: 0.8429\n",
            "Epoch 9: saving model to model-epoch-009-valacc-0.470588.h5\n",
            "40/40 [==============================] - 3s 77ms/step - loss: 0.1177 - accuracy: 0.8449 - val_loss: 3.1085 - val_accuracy: 0.4706\n",
            "Epoch 10/50\n",
            "39/40 [============================>.] - ETA: 0s - loss: 0.0682 - accuracy: 0.9231\n",
            "Epoch 10: saving model to model-epoch-010-valacc-0.477941.h5\n",
            "40/40 [==============================] - 3s 80ms/step - loss: 0.0720 - accuracy: 0.9209 - val_loss: 3.5314 - val_accuracy: 0.4779\n",
            "Epoch 11/50\n",
            "39/40 [============================>.] - ETA: 0s - loss: 0.0523 - accuracy: 0.9167\n",
            "Epoch 11: saving model to model-epoch-011-valacc-0.463235.h5\n",
            "40/40 [==============================] - 3s 81ms/step - loss: 0.0552 - accuracy: 0.9114 - val_loss: 3.8774 - val_accuracy: 0.4632\n",
            "Epoch 12/50\n",
            "39/40 [============================>.] - ETA: 0s - loss: 0.0734 - accuracy: 0.8942\n",
            "Epoch 12: saving model to model-epoch-012-valacc-0.492647.h5\n",
            "40/40 [==============================] - 3s 81ms/step - loss: 0.0726 - accuracy: 0.8956 - val_loss: 4.2431 - val_accuracy: 0.4926\n",
            "Epoch 13/50\n",
            "39/40 [============================>.] - ETA: 0s - loss: 0.0456 - accuracy: 0.9359\n",
            "Epoch 13: saving model to model-epoch-013-valacc-0.477941.h5\n",
            "40/40 [==============================] - 3s 78ms/step - loss: 0.0473 - accuracy: 0.9335 - val_loss: 4.4118 - val_accuracy: 0.4779\n",
            "Epoch 14/50\n",
            "39/40 [============================>.] - ETA: 0s - loss: 0.0347 - accuracy: 0.9455\n",
            "Epoch 14: saving model to model-epoch-014-valacc-0.492647.h5\n",
            "40/40 [==============================] - 3s 81ms/step - loss: 0.0344 - accuracy: 0.9462 - val_loss: 4.9501 - val_accuracy: 0.4926\n",
            "Epoch 15/50\n",
            "40/40 [==============================] - ETA: 0s - loss: 0.0182 - accuracy: 0.9778\n",
            "Epoch 15: saving model to model-epoch-015-valacc-0.507353.h5\n",
            "40/40 [==============================] - 3s 79ms/step - loss: 0.0182 - accuracy: 0.9778 - val_loss: 5.2270 - val_accuracy: 0.5074\n",
            "Epoch 16/50\n",
            "39/40 [============================>.] - ETA: 0s - loss: 0.0126 - accuracy: 0.9776\n",
            "Epoch 16: saving model to model-epoch-016-valacc-0.529412.h5\n",
            "40/40 [==============================] - 3s 74ms/step - loss: 0.0125 - accuracy: 0.9778 - val_loss: 5.6312 - val_accuracy: 0.5294\n",
            "Epoch 17/50\n",
            "39/40 [============================>.] - ETA: 0s - loss: 0.0064 - accuracy: 0.9936\n",
            "Epoch 17: saving model to model-epoch-017-valacc-0.514706.h5\n",
            "40/40 [==============================] - 3s 73ms/step - loss: 0.0065 - accuracy: 0.9937 - val_loss: 5.8088 - val_accuracy: 0.5147\n",
            "Epoch 18/50\n",
            "39/40 [============================>.] - ETA: 0s - loss: 0.0037 - accuracy: 1.0000\n",
            "Epoch 18: saving model to model-epoch-018-valacc-0.514706.h5\n",
            "40/40 [==============================] - 3s 75ms/step - loss: 0.0037 - accuracy: 1.0000 - val_loss: 6.2561 - val_accuracy: 0.5147\n",
            "Epoch 19/50\n",
            "39/40 [============================>.] - ETA: 0s - loss: 0.0027 - accuracy: 0.9968\n",
            "Epoch 19: saving model to model-epoch-019-valacc-0.514706.h5\n",
            "40/40 [==============================] - 3s 82ms/step - loss: 0.0027 - accuracy: 0.9968 - val_loss: 6.4544 - val_accuracy: 0.5147\n",
            "Epoch 20/50\n",
            "39/40 [============================>.] - ETA: 0s - loss: 0.0030 - accuracy: 0.9968\n",
            "Epoch 20: saving model to model-epoch-020-valacc-0.529412.h5\n",
            "40/40 [==============================] - 3s 76ms/step - loss: 0.0031 - accuracy: 0.9968 - val_loss: 6.9549 - val_accuracy: 0.5294\n",
            "Epoch 21/50\n",
            "39/40 [============================>.] - ETA: 0s - loss: 0.0011 - accuracy: 1.0000\n",
            "Epoch 21: saving model to model-epoch-021-valacc-0.529412.h5\n",
            "40/40 [==============================] - 3s 76ms/step - loss: 0.0011 - accuracy: 1.0000 - val_loss: 7.1282 - val_accuracy: 0.5294\n",
            "Epoch 22/50\n",
            "39/40 [============================>.] - ETA: 0s - loss: 0.0015 - accuracy: 1.0000\n",
            "Epoch 22: saving model to model-epoch-022-valacc-0.522059.h5\n",
            "40/40 [==============================] - 3s 81ms/step - loss: 0.0015 - accuracy: 1.0000 - val_loss: 7.3194 - val_accuracy: 0.5221\n",
            "Epoch 23/50\n",
            "39/40 [============================>.] - ETA: 0s - loss: 0.0059 - accuracy: 0.9936\n",
            "Epoch 23: saving model to model-epoch-023-valacc-0.536765.h5\n",
            "40/40 [==============================] - 3s 78ms/step - loss: 0.0058 - accuracy: 0.9937 - val_loss: 8.2832 - val_accuracy: 0.5368\n",
            "Epoch 24/50\n",
            "39/40 [============================>.] - ETA: 0s - loss: 0.0716 - accuracy: 0.9135\n",
            "Epoch 24: saving model to model-epoch-024-valacc-0.536765.h5\n",
            "40/40 [==============================] - 3s 77ms/step - loss: 0.0711 - accuracy: 0.9146 - val_loss: 4.9467 - val_accuracy: 0.5368\n",
            "Epoch 25/50\n",
            "39/40 [============================>.] - ETA: 0s - loss: 0.1671 - accuracy: 0.8429\n",
            "Epoch 25: saving model to model-epoch-025-valacc-0.485294.h5\n",
            "40/40 [==============================] - 3s 78ms/step - loss: 0.1654 - accuracy: 0.8449 - val_loss: 4.0200 - val_accuracy: 0.4853\n",
            "Epoch 26/50\n",
            "39/40 [============================>.] - ETA: 0s - loss: 0.3698 - accuracy: 0.8429\n",
            "Epoch 26: saving model to model-epoch-026-valacc-0.382353.h5\n",
            "40/40 [==============================] - 3s 74ms/step - loss: 0.3698 - accuracy: 0.8418 - val_loss: 3.6632 - val_accuracy: 0.3824\n",
            "Epoch 27/50\n",
            "39/40 [============================>.] - ETA: 0s - loss: 0.1512 - accuracy: 0.8462\n",
            "Epoch 27: saving model to model-epoch-027-valacc-0.514706.h5\n",
            "40/40 [==============================] - 3s 74ms/step - loss: 0.1495 - accuracy: 0.8481 - val_loss: 3.2074 - val_accuracy: 0.5147\n",
            "Epoch 28/50\n",
            "39/40 [============================>.] - ETA: 0s - loss: 0.0494 - accuracy: 0.9263\n",
            "Epoch 28: saving model to model-epoch-028-valacc-0.558824.h5\n",
            "40/40 [==============================] - 3s 79ms/step - loss: 0.0488 - accuracy: 0.9272 - val_loss: 4.2420 - val_accuracy: 0.5588\n",
            "Epoch 29/50\n",
            "39/40 [============================>.] - ETA: 0s - loss: 0.0181 - accuracy: 0.9808\n",
            "Epoch 29: saving model to model-epoch-029-valacc-0.529412.h5\n",
            "40/40 [==============================] - 3s 76ms/step - loss: 0.0179 - accuracy: 0.9810 - val_loss: 4.6884 - val_accuracy: 0.5294\n",
            "Epoch 30/50\n",
            "39/40 [============================>.] - ETA: 0s - loss: 0.0081 - accuracy: 0.9904\n",
            "Epoch 30: saving model to model-epoch-030-valacc-0.551471.h5\n",
            "40/40 [==============================] - 3s 80ms/step - loss: 0.0080 - accuracy: 0.9905 - val_loss: 5.2406 - val_accuracy: 0.5515\n",
            "Epoch 31/50\n",
            "39/40 [============================>.] - ETA: 0s - loss: 0.0045 - accuracy: 0.9968\n",
            "Epoch 31: saving model to model-epoch-031-valacc-0.544118.h5\n",
            "40/40 [==============================] - 3s 76ms/step - loss: 0.0045 - accuracy: 0.9968 - val_loss: 5.4758 - val_accuracy: 0.5441\n",
            "Epoch 32/50\n",
            "39/40 [============================>.] - ETA: 0s - loss: 0.0050 - accuracy: 0.9904\n",
            "Epoch 32: saving model to model-epoch-032-valacc-0.566176.h5\n",
            "40/40 [==============================] - 3s 80ms/step - loss: 0.0055 - accuracy: 0.9905 - val_loss: 5.9051 - val_accuracy: 0.5662\n",
            "Epoch 33/50\n",
            "39/40 [============================>.] - ETA: 0s - loss: 0.0083 - accuracy: 0.9872\n",
            "Epoch 33: saving model to model-epoch-033-valacc-0.522059.h5\n",
            "40/40 [==============================] - 3s 80ms/step - loss: 0.0082 - accuracy: 0.9873 - val_loss: 6.0172 - val_accuracy: 0.5221\n",
            "Epoch 34/50\n",
            "39/40 [============================>.] - ETA: 0s - loss: 0.0053 - accuracy: 0.9872\n",
            "Epoch 34: saving model to model-epoch-034-valacc-0.580882.h5\n",
            "40/40 [==============================] - 3s 79ms/step - loss: 0.0053 - accuracy: 0.9873 - val_loss: 6.3587 - val_accuracy: 0.5809\n",
            "Epoch 35/50\n",
            "39/40 [============================>.] - ETA: 0s - loss: 0.0039 - accuracy: 0.9968\n",
            "Epoch 35: saving model to model-epoch-035-valacc-0.566176.h5\n",
            "40/40 [==============================] - 4s 104ms/step - loss: 0.0041 - accuracy: 0.9968 - val_loss: 6.2746 - val_accuracy: 0.5662\n",
            "Epoch 36/50\n",
            "40/40 [==============================] - ETA: 0s - loss: 0.0030 - accuracy: 0.9968\n",
            "Epoch 36: saving model to model-epoch-036-valacc-0.536765.h5\n",
            "40/40 [==============================] - 4s 102ms/step - loss: 0.0030 - accuracy: 0.9968 - val_loss: 6.6654 - val_accuracy: 0.5368\n",
            "Epoch 37/50\n",
            "40/40 [==============================] - ETA: 0s - loss: 8.1766e-04 - accuracy: 1.0000\n",
            "Epoch 37: saving model to model-epoch-037-valacc-0.551471.h5\n",
            "40/40 [==============================] - 3s 78ms/step - loss: 8.1766e-04 - accuracy: 1.0000 - val_loss: 6.8298 - val_accuracy: 0.5515\n",
            "Epoch 38/50\n",
            "39/40 [============================>.] - ETA: 0s - loss: 0.0015 - accuracy: 1.0000\n",
            "Epoch 38: saving model to model-epoch-038-valacc-0.514706.h5\n",
            "40/40 [==============================] - 3s 75ms/step - loss: 0.0015 - accuracy: 1.0000 - val_loss: 7.0530 - val_accuracy: 0.5147\n",
            "Epoch 39/50\n",
            "39/40 [============================>.] - ETA: 0s - loss: 0.0011 - accuracy: 0.9968\n",
            "Epoch 39: saving model to model-epoch-039-valacc-0.536765.h5\n",
            "40/40 [==============================] - 3s 81ms/step - loss: 0.0011 - accuracy: 0.9968 - val_loss: 7.3030 - val_accuracy: 0.5368\n",
            "Epoch 40/50\n",
            "39/40 [============================>.] - ETA: 0s - loss: 0.0125 - accuracy: 0.9776\n",
            "Epoch 40: saving model to model-epoch-040-valacc-0.536765.h5\n",
            "40/40 [==============================] - 3s 79ms/step - loss: 0.0123 - accuracy: 0.9778 - val_loss: 7.3505 - val_accuracy: 0.5368\n",
            "Epoch 41/50\n",
            "39/40 [============================>.] - ETA: 0s - loss: 0.0207 - accuracy: 0.9776\n",
            "Epoch 41: saving model to model-epoch-041-valacc-0.566176.h5\n",
            "40/40 [==============================] - 3s 78ms/step - loss: 0.0205 - accuracy: 0.9778 - val_loss: 7.3363 - val_accuracy: 0.5662\n",
            "Epoch 42/50\n",
            "39/40 [============================>.] - ETA: 0s - loss: 0.0090 - accuracy: 0.9808\n",
            "Epoch 42: saving model to model-epoch-042-valacc-0.544118.h5\n",
            "40/40 [==============================] - 3s 79ms/step - loss: 0.0089 - accuracy: 0.9810 - val_loss: 7.5240 - val_accuracy: 0.5441\n",
            "Epoch 43/50\n",
            "39/40 [============================>.] - ETA: 0s - loss: 0.0029 - accuracy: 0.9936\n",
            "Epoch 43: saving model to model-epoch-043-valacc-0.536765.h5\n",
            "40/40 [==============================] - 3s 77ms/step - loss: 0.0029 - accuracy: 0.9937 - val_loss: 7.6563 - val_accuracy: 0.5368\n",
            "Epoch 44/50\n",
            "39/40 [============================>.] - ETA: 0s - loss: 0.0335 - accuracy: 0.9583\n",
            "Epoch 44: saving model to model-epoch-044-valacc-0.551471.h5\n",
            "40/40 [==============================] - 3s 79ms/step - loss: 0.0342 - accuracy: 0.9589 - val_loss: 6.6738 - val_accuracy: 0.5515\n",
            "Epoch 45/50\n",
            "39/40 [============================>.] - ETA: 0s - loss: 0.0245 - accuracy: 0.9744\n",
            "Epoch 45: saving model to model-epoch-045-valacc-0.536765.h5\n",
            "40/40 [==============================] - 3s 78ms/step - loss: 0.0245 - accuracy: 0.9747 - val_loss: 6.6072 - val_accuracy: 0.5368\n",
            "Epoch 46/50\n",
            "39/40 [============================>.] - ETA: 0s - loss: 0.0222 - accuracy: 0.9487\n",
            "Epoch 46: saving model to model-epoch-046-valacc-0.529412.h5\n",
            "40/40 [==============================] - 3s 79ms/step - loss: 0.0219 - accuracy: 0.9494 - val_loss: 6.5256 - val_accuracy: 0.5294\n",
            "Epoch 47/50\n",
            "39/40 [============================>.] - ETA: 0s - loss: 0.0074 - accuracy: 0.9904\n",
            "Epoch 47: saving model to model-epoch-047-valacc-0.522059.h5\n",
            "40/40 [==============================] - 3s 83ms/step - loss: 0.0073 - accuracy: 0.9905 - val_loss: 6.5295 - val_accuracy: 0.5221\n",
            "Epoch 48/50\n",
            "39/40 [============================>.] - ETA: 0s - loss: 0.0032 - accuracy: 0.9904\n",
            "Epoch 48: saving model to model-epoch-048-valacc-0.544118.h5\n",
            "40/40 [==============================] - 3s 77ms/step - loss: 0.0032 - accuracy: 0.9905 - val_loss: 6.9074 - val_accuracy: 0.5441\n",
            "Epoch 49/50\n",
            "39/40 [============================>.] - ETA: 0s - loss: 0.0014 - accuracy: 1.0000\n",
            "Epoch 49: saving model to model-epoch-049-valacc-0.544118.h5\n",
            "40/40 [==============================] - 3s 77ms/step - loss: 0.0014 - accuracy: 1.0000 - val_loss: 7.3554 - val_accuracy: 0.5441\n",
            "Epoch 50/50\n",
            "39/40 [============================>.] - ETA: 0s - loss: 8.7246e-04 - accuracy: 1.0000\n",
            "Epoch 50: saving model to model-epoch-050-valacc-0.551471.h5\n",
            "40/40 [==============================] - 3s 80ms/step - loss: 8.6151e-04 - accuracy: 1.0000 - val_loss: 7.5838 - val_accuracy: 0.5515\n"
          ]
        }
      ]
    },
    {
      "cell_type": "code",
      "source": [
        "from matplotlib import pyplot as plt\n",
        "sub=0\n",
        "# visualizing losses and accuracy\n",
        "train_loss = hist.history['loss'][sub:]\n",
        "val_loss = hist.history['val_loss'][sub:]\n",
        "train_accu = hist.history['accuracy'][sub:]\n",
        "val_accu = hist.history['val_accuracy'][sub:]\n",
        "xc = range(len(val_loss))\n",
        "\n",
        "fig1 = plt.figure()\n",
        "fig1.patch.set_facecolor('white')\n",
        "plt.plot(xc, train_loss, label='Training loss')\n",
        "plt.plot(xc, val_loss, label='Validation loss')\n",
        "plt.legend(loc=\"upper right\")\n",
        "plt.xlabel('Epochs')\n",
        "plt.ylabel('Loss')\n",
        "fig1.show()\n",
        "\n",
        "fig2 = plt.figure()\n",
        "fig2.patch.set_facecolor('white')\n",
        "plt.plot(xc, train_accu, label='Training accuracy')\n",
        "plt.plot(xc, val_accu, label='Validation accuracy')\n",
        "plt.legend(loc=\"lower right\")\n",
        "plt.xlabel('Epochs')\n",
        "plt.ylabel('Accuracy')\n",
        "fig2.show()"
      ],
      "metadata": {
        "colab": {
          "base_uri": "https://localhost:8080/",
          "height": 541
        },
        "id": "Ec5l_9rqI1E4",
        "outputId": "f61518d2-967c-4fae-990e-53b219b85723"
      },
      "execution_count": null,
      "outputs": [
        {
          "output_type": "display_data",
          "data": {
            "text/plain": [
              "<Figure size 432x288 with 1 Axes>"
            ],
            "image/png": "[encoded data removed]"
          },
          "metadata": {}
        },
        {
          "output_type": "display_data",
          "data": {
            "text/plain": [
              "<Figure size 432x288 with 1 Axes>"
            ],
            "image/png": "[encoded data removed]"
          },
          "metadata": {}
        }
      ]
    }
  ]
}